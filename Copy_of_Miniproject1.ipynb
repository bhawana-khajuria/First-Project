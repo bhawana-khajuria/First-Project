{
  "nbformat": 4,
  "nbformat_minor": 0,
  "metadata": {
    "colab": {
      "provenance": [],
      "authorship_tag": "ABX9TyNKUcp5eEOfey2FSIIF2Oto",
      "include_colab_link": true
    },
    "kernelspec": {
      "name": "python3",
      "display_name": "Python 3"
    },
    "language_info": {
      "name": "python"
    }
  },
  "cells": [
    {
      "cell_type": "markdown",
      "metadata": {
        "id": "view-in-github",
        "colab_type": "text"
      },
      "source": [
        "<a href=\"https://colab.research.google.com/github/bhawana-khajuria/First-Project/blob/main/Copy_of_Miniproject1.ipynb\" target=\"_parent\"><img src=\"https://colab.research.google.com/assets/colab-badge.svg\" alt=\"Open In Colab\"/></a>"
      ]
    },
    {
      "cell_type": "markdown",
      "source": [
        "## Python Assignment\n",
        "\n",
        "**Q1. L is a list defined as L= [11, 12, 13, 14].**\n",
        "\n",
        "(i) WAP to add 50 and 60 to L"
      ],
      "metadata": {
        "id": "65OnL7bs_LVJ"
      }
    },
    {
      "cell_type": "code",
      "source": [
        "L=[11,12,13,14]\n",
        "print (\"Original List --> \", L)\n",
        "\n",
        "L.append(50)\n",
        "L.append(60)\n",
        "print (\"List After Adding   --> \", L)"
      ],
      "metadata": {
        "colab": {
          "base_uri": "https://localhost:8080/"
        },
        "id": "eKJdcxGyIqXY",
        "outputId": "e34e04b9-7698-4d89-d593-315439e96bff"
      },
      "execution_count": null,
      "outputs": [
        {
          "output_type": "stream",
          "name": "stdout",
          "text": [
            "Original List -->  [11, 12, 13, 14]\n",
            "List After Adding   -->  [11, 12, 13, 14, 50, 60]\n"
          ]
        }
      ]
    },
    {
      "cell_type": "markdown",
      "source": [
        "(ii) WAP to remove 11 and 13 from L"
      ],
      "metadata": {
        "id": "mM9PCEH_KFfv"
      }
    },
    {
      "cell_type": "code",
      "source": [
        "L=[11,12,13,14]\n",
        "print (\"Original List --> \", L)\n",
        "\n",
        "\n",
        "\n",
        "L.remove(11)\n",
        "L.remove(13)\n",
        "print (\"List After Remove   --> \", L)"
      ],
      "metadata": {
        "colab": {
          "base_uri": "https://localhost:8080/"
        },
        "id": "9Dtt9uXmKMkS",
        "outputId": "6f8c4d17-e9b9-4c4f-a155-f923977bde52"
      },
      "execution_count": null,
      "outputs": [
        {
          "output_type": "stream",
          "name": "stdout",
          "text": [
            "Original List -->  [11, 12, 13, 14]\n",
            "List After Remove   -->  [12, 14]\n"
          ]
        }
      ]
    },
    {
      "cell_type": "markdown",
      "source": [
        "(iii)WAP to sort L in ascending order"
      ],
      "metadata": {
        "id": "qRoxZDaxMNJm"
      }
    },
    {
      "cell_type": "code",
      "source": [
        "L=[11,12,13,14]\n",
        "print (\"Original List --> \", L)\n",
        "\n",
        "\n",
        "print(\"Sorted list:\", L)"
      ],
      "metadata": {
        "colab": {
          "base_uri": "https://localhost:8080/"
        },
        "id": "iE0uYSIlMUwv",
        "outputId": "3bfce083-262e-4571-ce59-117674793fac"
      },
      "execution_count": null,
      "outputs": [
        {
          "output_type": "stream",
          "name": "stdout",
          "text": [
            "Original List -->  [11, 12, 13, 14]\n",
            "Sorted list: [11, 12, 13, 14]\n"
          ]
        }
      ]
    },
    {
      "cell_type": "markdown",
      "source": [
        "(iv) WAP to sort L in decending order"
      ],
      "metadata": {
        "id": "964wCvK3NEz_"
      }
    },
    {
      "cell_type": "code",
      "source": [
        "L=[11,12,13,14]\n",
        "print (\"Original List --> \", L)\n",
        "L.sort(reverse=True)\n",
        "print(\"Sorted list in descending order:\", L)"
      ],
      "metadata": {
        "colab": {
          "base_uri": "https://localhost:8080/"
        },
        "id": "XUVOzntsNMPO",
        "outputId": "cc0dae84-0ed6-4e96-f4f8-8a1dddcc56c1"
      },
      "execution_count": null,
      "outputs": [
        {
          "output_type": "stream",
          "name": "stdout",
          "text": [
            "Original List -->  [11, 12, 13, 14]\n",
            "Sorted list in descending order: [14, 13, 12, 11]\n"
          ]
        }
      ]
    },
    {
      "cell_type": "markdown",
      "source": [
        "(v) WAP to search for 13 in L"
      ],
      "metadata": {
        "id": "kSo13_wYNq4r"
      }
    },
    {
      "cell_type": "code",
      "source": [
        "L=[11,12,13,14]\n",
        "print (\"Original List --> \", 13 in L)\n",
        "\n",
        "\n",
        "\n",
        "if (13 in L) == True:\n",
        "\tprint (\"Present\")\n",
        "else:\n",
        "\tprint (\"Not Present\")"
      ],
      "metadata": {
        "colab": {
          "base_uri": "https://localhost:8080/"
        },
        "id": "OsFuoVWyOBXP",
        "outputId": "cf487340-b2f8-4dac-bb9a-2f4aed1973d4"
      },
      "execution_count": null,
      "outputs": [
        {
          "output_type": "stream",
          "name": "stdout",
          "text": [
            "Original List -->  True\n",
            "Present\n"
          ]
        }
      ]
    },
    {
      "cell_type": "markdown",
      "source": [
        "(vi) WAP to sum all the elements in L"
      ],
      "metadata": {
        "id": "0OmxmGhyObLQ"
      }
    },
    {
      "cell_type": "code",
      "source": [
        "L=[11,12,13,14]\n",
        "print (\"Original List --> \", L)\n",
        "\n",
        "print (\"Sum     --> \", sum(L))"
      ],
      "metadata": {
        "colab": {
          "base_uri": "https://localhost:8080/"
        },
        "id": "sYPqtSLqOkbr",
        "outputId": "af8a874e-751e-480b-899e-30f44bb39a66"
      },
      "execution_count": null,
      "outputs": [
        {
          "output_type": "stream",
          "name": "stdout",
          "text": [
            "Original List -->  [11, 12, 13, 14]\n",
            "Sum     -->  50\n"
          ]
        }
      ]
    },
    {
      "cell_type": "markdown",
      "source": [
        "(vii) WAP to count the number of elements present in L"
      ],
      "metadata": {
        "id": "pJEcI2nGOt8w"
      }
    },
    {
      "cell_type": "code",
      "source": [
        "L = [11,12,13,14]\n",
        "\n",
        "\n",
        "count = len(L)\n",
        "\n",
        "\n",
        "print(\"Number of elements in the list:\", count)"
      ],
      "metadata": {
        "colab": {
          "base_uri": "https://localhost:8080/"
        },
        "id": "E5ruaB_lPgcm",
        "outputId": "15ca7da8-a993-4090-f803-6de367ad052e"
      },
      "execution_count": null,
      "outputs": [
        {
          "output_type": "stream",
          "name": "stdout",
          "text": [
            "Number of elements in the list: 4\n"
          ]
        }
      ]
    },
    {
      "cell_type": "markdown",
      "source": [
        "(viii) WAP to sum all the ODD number in L"
      ],
      "metadata": {
        "id": "pGaS1jCpPnTs"
      }
    },
    {
      "cell_type": "code",
      "source": [
        "L = [11,12,13,14]\n",
        "odd_sum = sum(x for x in L if x % 2 != 0)\n",
        "print(\"Sum of odd numbers:\", odd_sum)"
      ],
      "metadata": {
        "colab": {
          "base_uri": "https://localhost:8080/"
        },
        "id": "FuIzroiMP734",
        "outputId": "09955b4f-980c-402e-90de-7f3bd7ce51f5"
      },
      "execution_count": null,
      "outputs": [
        {
          "output_type": "stream",
          "name": "stdout",
          "text": [
            "Sum of odd numbers: 24\n"
          ]
        }
      ]
    },
    {
      "cell_type": "markdown",
      "source": [
        "(ix)  WAP to sum all EVEN numbers in L."
      ],
      "metadata": {
        "id": "EO_jhHdGQXUD"
      }
    },
    {
      "cell_type": "code",
      "source": [
        "L = [11,12,13,14]\n",
        "even_sum = sum(x for x in L if x % 2 == 0)\n",
        "print(\"Sum of even numbers:\", even_sum)"
      ],
      "metadata": {
        "colab": {
          "base_uri": "https://localhost:8080/"
        },
        "id": "WFtBaDamQh04",
        "outputId": "faaa93e9-61ff-4198-a7c2-fcf8c576e854"
      },
      "execution_count": null,
      "outputs": [
        {
          "output_type": "stream",
          "name": "stdout",
          "text": [
            "Sum of even numbers: 26\n"
          ]
        }
      ]
    },
    {
      "cell_type": "markdown",
      "source": [
        "(x)WAP to sum all PRIME numbers in L."
      ],
      "metadata": {
        "id": "DeUMPWGiQtV8"
      }
    },
    {
      "cell_type": "code",
      "source": [
        "def is_prime(n):\n",
        "    if n < 2:\n",
        "        return False\n",
        "    for i in range(2, int(n**0.5) + 1):\n",
        "        if n % i == 0:\n",
        "            return False\n",
        "    return True\n",
        "\n",
        "L = [11,12,13,14]\n",
        "prime_sum = sum(x for x in L if is_prime(x))\n",
        "print(\"Sum of prime numbers:\", prime_sum)"
      ],
      "metadata": {
        "colab": {
          "base_uri": "https://localhost:8080/"
        },
        "id": "ZLj5paAvQ7eK",
        "outputId": "bc38fec1-83a1-445b-c4a2-ad88aeec9201"
      },
      "execution_count": null,
      "outputs": [
        {
          "output_type": "stream",
          "name": "stdout",
          "text": [
            "Sum of prime numbers: 24\n"
          ]
        }
      ]
    },
    {
      "cell_type": "markdown",
      "source": [
        "(xi) WAP to clear all the elements in L."
      ],
      "metadata": {
        "id": "PkPLvyfORKEk"
      }
    },
    {
      "cell_type": "code",
      "source": [
        "L = [11,12,13,14]\n",
        "L.clear()\n",
        "print(\"List after clearing:\", L)"
      ],
      "metadata": {
        "colab": {
          "base_uri": "https://localhost:8080/"
        },
        "id": "Jh_nRgBLROY0",
        "outputId": "e2cd4584-8c12-400b-92b1-b7a1a5a6d4e0"
      },
      "execution_count": null,
      "outputs": [
        {
          "output_type": "stream",
          "name": "stdout",
          "text": [
            "List after clearing: []\n"
          ]
        }
      ]
    },
    {
      "cell_type": "markdown",
      "source": [
        "(xii) WAP to delete L.\n"
      ],
      "metadata": {
        "id": "xy65rqwaRXXc"
      }
    },
    {
      "cell_type": "code",
      "source": [
        "L = [10, 20, 30]\n",
        "del L\n"
      ],
      "metadata": {
        "id": "RIOEhUMjRc3i"
      },
      "execution_count": null,
      "outputs": []
    },
    {
      "cell_type": "markdown",
      "source": [
        "Q2. D is a dictionary defined as D= {1:5.6, 2:7.8, 3:6.6, 4:8.7, 5:7.7}.\n",
        "(i) WAP to add new entry in D; key=8 and value is 8.8\n"
      ],
      "metadata": {
        "id": "I2KXXRNpR0Wr"
      }
    },
    {
      "cell_type": "code",
      "source": [
        "D={1:5.6, 2:7.8, 3:6.6, 4:8.7, 5:7.7}\n",
        "print (\"Original Dictionary --> \", D)\n",
        "\n",
        "D[8] = 8.8\n",
        "print (\"After Updating (4)  --> \", D)"
      ],
      "metadata": {
        "colab": {
          "base_uri": "https://localhost:8080/"
        },
        "id": "lFry8bk9SNCf",
        "outputId": "3085bf3e-bb1b-4ea0-d0e8-7d9ea1fa057b"
      },
      "execution_count": null,
      "outputs": [
        {
          "output_type": "stream",
          "name": "stdout",
          "text": [
            "Original Dictionary -->  {1: 5.6, 2: 7.8, 3: 6.6, 4: 8.7, 5: 7.7}\n",
            "After Updating (4)  -->  {1: 5.6, 2: 7.8, 3: 6.6, 4: 8.7, 5: 7.7, 8: 8.8}\n"
          ]
        }
      ]
    },
    {
      "cell_type": "markdown",
      "source": [
        "(ii) WAP to remove key=2."
      ],
      "metadata": {
        "id": "ENctVMGRSbzk"
      }
    },
    {
      "cell_type": "code",
      "source": [
        "D={1:5.6, 2:7.8, 3:6.6, 4:8.7, 5:7.7}\n",
        "print (\"Original Dictionary --> \", D)\n",
        "\n",
        "\n",
        "del D[2]\n",
        "print (\"After Deleting (1)  --> \", D)"
      ],
      "metadata": {
        "colab": {
          "base_uri": "https://localhost:8080/"
        },
        "id": "qgVKQfiVSc1K",
        "outputId": "f92528c6-be01-4e16-b8fb-3c41c2d5ab24"
      },
      "execution_count": null,
      "outputs": [
        {
          "output_type": "stream",
          "name": "stdout",
          "text": [
            "Original Dictionary -->  {1: 5.6, 2: 7.8, 3: 6.6, 4: 8.7, 5: 7.7}\n",
            "After Deleting (1)  -->  {1: 5.6, 3: 6.6, 4: 8.7, 5: 7.7}\n"
          ]
        }
      ]
    },
    {
      "cell_type": "markdown",
      "source": [
        "(iii) WAP to check weather 6 key is present in D"
      ],
      "metadata": {
        "id": "PORzwH8rStSm"
      }
    },
    {
      "cell_type": "code",
      "source": [
        "D={1:5.6, 2:7.8, 3:6.6, 4:8.7, 5:7.7}\n",
        "print (\"Original Dictionary --> \", D)\n",
        "print (\"Is Key 6 Present    --> \", 6 in D)"
      ],
      "metadata": {
        "colab": {
          "base_uri": "https://localhost:8080/"
        },
        "id": "dautCpqOSuga",
        "outputId": "4bbf32de-4abe-4a40-c849-94d39845ec19"
      },
      "execution_count": null,
      "outputs": [
        {
          "output_type": "stream",
          "name": "stdout",
          "text": [
            "Original Dictionary -->  {1: 5.6, 2: 7.8, 3: 6.6, 4: 8.7, 5: 7.7}\n",
            "Is Key 6 Present    -->  False\n"
          ]
        }
      ]
    },
    {
      "cell_type": "markdown",
      "source": [
        "(iv) WAP to count the number of elements present in D."
      ],
      "metadata": {
        "id": "FepTmxhvTOnc"
      }
    },
    {
      "cell_type": "code",
      "source": [
        "D={1:5.6, 2:7.8, 3:6.6, 4:8.7, 5:7.7}\n",
        "count = len(D)\n",
        "print(\"Number of elements in dictionary CGPA:\", D)"
      ],
      "metadata": {
        "colab": {
          "base_uri": "https://localhost:8080/"
        },
        "id": "CSX6hi42TQGw",
        "outputId": "15bfc6d9-75da-4358-a340-4f81a6096a2f"
      },
      "execution_count": null,
      "outputs": [
        {
          "output_type": "stream",
          "name": "stdout",
          "text": [
            "Number of elements in dictionary CGPA: 5\n"
          ]
        }
      ]
    },
    {
      "cell_type": "markdown",
      "source": [
        "(v) WAP to add all the values present D."
      ],
      "metadata": {
        "id": "Pm0eKDOEUDpk"
      }
    },
    {
      "cell_type": "code",
      "source": [
        "D={1:5.6, 2:7.8, 3:6.6, 4:8.7, 5:7.7}\n",
        "total = sum(D.values())\n",
        "print(\"Sum of all values in D:\", total)"
      ],
      "metadata": {
        "colab": {
          "base_uri": "https://localhost:8080/"
        },
        "id": "yBsSGyr7UxkQ",
        "outputId": "68c216ec-58a4-4270-e612-1c2442740a9a"
      },
      "execution_count": null,
      "outputs": [
        {
          "output_type": "stream",
          "name": "stdout",
          "text": [
            "Sum of all values in D: 36.4\n"
          ]
        }
      ]
    },
    {
      "cell_type": "markdown",
      "source": [
        "(vi) WAP to update the value of 3 to 7.1.\n"
      ],
      "metadata": {
        "id": "i-SE9ESUU_nb"
      }
    },
    {
      "cell_type": "code",
      "source": [
        "D={1:5.6, 2:7.8, 3:6.6, 4:8.7, 5:7.7}\n",
        "print (\"Original Dictionary --> \", D)\n",
        "\n",
        "D[3] = 7.1\n",
        "print (\"After Updating (3)  --> \", D)"
      ],
      "metadata": {
        "colab": {
          "base_uri": "https://localhost:8080/"
        },
        "id": "BkPD7hVfVAsA",
        "outputId": "5e2689f7-337a-4876-fe34-01a29a932c66"
      },
      "execution_count": null,
      "outputs": [
        {
          "output_type": "stream",
          "name": "stdout",
          "text": [
            "Original Dictionary -->  {1: 5.6, 2: 7.8, 3: 6.6, 4: 8.7, 5: 7.7}\n",
            "After Updating (3)  -->  {1: 5.6, 2: 7.8, 3: 7.1, 4: 8.7, 5: 7.7}\n"
          ]
        }
      ]
    },
    {
      "cell_type": "markdown",
      "source": [
        "(vii) WAP to clear the dictionary."
      ],
      "metadata": {
        "id": "R6hRzd8ZWikT"
      }
    },
    {
      "cell_type": "code",
      "source": [
        "D={1:5.6, 2:7.8, 3:6.6, 4:8.7, 5:7.7}\n",
        "print (\"Original Dictionary --> \", D)\n",
        "\n",
        "\n",
        "D.clear()\n",
        "print (\"After Clear         --> \", D)"
      ],
      "metadata": {
        "colab": {
          "base_uri": "https://localhost:8080/"
        },
        "id": "bZfYldkvWpCG",
        "outputId": "316b0bc4-2bde-47e0-cbc3-2ab58ba72931"
      },
      "execution_count": null,
      "outputs": [
        {
          "output_type": "stream",
          "name": "stdout",
          "text": [
            "Original Dictionary -->  {1: 5.6, 2: 7.8, 3: 6.6, 4: 8.7, 5: 7.7}\n",
            "After Clear         -->  {}\n"
          ]
        }
      ]
    },
    {
      "cell_type": "markdown",
      "source": [
        " ---\n",
        " ### **set defined as S1= [10, 20, 30, 40, 50, 60].**\n",
        " ### **S2 is a set defined as S2= [40, 50, 60, 7]**\n",
        " ---\n",
        "\n",
        "\n",
        "\n"
      ],
      "metadata": {
        "id": "IatxoP-LW-DS"
      }
    },
    {
      "cell_type": "markdown",
      "source": [
        "(i) WAP to add 55 and 66 in Set S1.\n"
      ],
      "metadata": {
        "id": "bbV7GZ8mXCow"
      }
    },
    {
      "cell_type": "code",
      "source": [
        "S1 = [10, 20, 30, 40, 50, 60]\n",
        "\n",
        "S1 = set(S1)\n",
        "\n",
        "S1.add(55)\n",
        "S1.add(66)\n",
        "\n",
        "\n",
        "print(\"Updated S1:\", S1)"
      ],
      "metadata": {
        "colab": {
          "base_uri": "https://localhost:8080/"
        },
        "id": "upwDLD3wXYlR",
        "outputId": "0db3afbf-1fc8-42de-87a4-e690f83138be"
      },
      "execution_count": null,
      "outputs": [
        {
          "output_type": "stream",
          "name": "stdout",
          "text": [
            "Updated S1: {66, 40, 10, 50, 20, 55, 60, 30}\n"
          ]
        }
      ]
    },
    {
      "cell_type": "markdown",
      "source": [
        "(ii) WAP to remove 10 and 30 from Set S1."
      ],
      "metadata": {
        "id": "bgmMEaTDYPw2"
      }
    },
    {
      "cell_type": "code",
      "source": [
        "S1 = [10, 20, 30, 40, 50, 60]\n",
        "S1 = set(S1)\n",
        "\n",
        "S1.remove(10)\n",
        "S1.remove(30)\n",
        "\n",
        "print(\"S1 after removing 10 and 30:\", S1)"
      ],
      "metadata": {
        "colab": {
          "base_uri": "https://localhost:8080/"
        },
        "id": "89isKEnMCpJC",
        "outputId": "01c13536-002b-48fa-e3e9-a4e6e2f94f66"
      },
      "execution_count": null,
      "outputs": [
        {
          "output_type": "stream",
          "name": "stdout",
          "text": [
            "S1 after removing 10 and 30: {40, 50, 20, 60}\n"
          ]
        }
      ]
    },
    {
      "cell_type": "markdown",
      "source": [
        "(iii) WAP to check whether 40 is present in S1"
      ],
      "metadata": {
        "id": "dNkzieJIDIrl"
      }
    },
    {
      "cell_type": "code",
      "source": [
        "S1 = [10, 20, 30, 40, 50, 60]\n",
        "S1 = set(S1)\n",
        "if 40 in S1:\n",
        "    print(\"40 is present in S1\")\n",
        "else:\n",
        "    print(\"40 is not present in S1\")"
      ],
      "metadata": {
        "colab": {
          "base_uri": "https://localhost:8080/"
        },
        "id": "fmFjo-AXDKCV",
        "outputId": "621a36b7-d9b6-4e9b-f62a-a6bb3777b427"
      },
      "execution_count": null,
      "outputs": [
        {
          "output_type": "stream",
          "name": "stdout",
          "text": [
            "40 is present in S1\n"
          ]
        }
      ]
    },
    {
      "cell_type": "markdown",
      "source": [
        "(iv) WAP to find the union between S1 and S2."
      ],
      "metadata": {
        "id": "K5By5lIEEJL9"
      }
    },
    {
      "cell_type": "code",
      "source": [
        "S1 = [10, 20, 30, 40, 50, 60]\n",
        "S1 = set(S1)\n",
        "S2= [40, 50, 60, 7]\n",
        "S2 = set(S2)\n",
        "\n",
        "\n",
        "union_set = S1.union(S2)\n",
        "print(\"Union of S1 and S2:\", union_set)\n"
      ],
      "metadata": {
        "colab": {
          "base_uri": "https://localhost:8080/"
        },
        "id": "PV8XMiv-Ec0Z",
        "outputId": "5b6c2b27-624a-461f-88d5-c8ed4c4fedc3"
      },
      "execution_count": null,
      "outputs": [
        {
          "output_type": "stream",
          "name": "stdout",
          "text": [
            "Union of S1 and S2: {7, 40, 10, 50, 20, 60, 30}\n"
          ]
        }
      ]
    },
    {
      "cell_type": "markdown",
      "source": [
        "(v) WAP to find the intersection between S1 and S2"
      ],
      "metadata": {
        "id": "1EleAtWVFRvr"
      }
    },
    {
      "cell_type": "code",
      "source": [
        "\n",
        "S1 = [10, 20, 30, 40, 50, 60]\n",
        "S1 = set(S1)\n",
        "S2= [40, 50, 60, 7]\n",
        "S2 = set(S2)\n",
        "intersection_set = S1.intersection(S2)\n",
        "print(\"Intersection of S1 and S2:\", intersection_set)"
      ],
      "metadata": {
        "colab": {
          "base_uri": "https://localhost:8080/"
        },
        "id": "7GnWWGzTFSvp",
        "outputId": "0731a06f-1ea0-45d6-cd32-32afbde1c409"
      },
      "execution_count": null,
      "outputs": [
        {
          "output_type": "stream",
          "name": "stdout",
          "text": [
            "Intersection of S1 and S2: {40, 50, 60}\n"
          ]
        }
      ]
    },
    {
      "cell_type": "markdown",
      "source": [
        "(vi) WAP to find the S1 - S2.\n"
      ],
      "metadata": {
        "id": "blxZTEynFu7X"
      }
    },
    {
      "cell_type": "code",
      "source": [
        "\n",
        "S1 = [10, 20, 30, 40, 50, 60]\n",
        "S1 = set(S1)\n",
        "S2= [40, 50, 60, 7]\n",
        "S2 = set(S2)\n",
        "difference_set = S1.difference(S2)\n",
        "print(\"Difference of S1 and S2:\", difference_set)\n"
      ],
      "metadata": {
        "colab": {
          "base_uri": "https://localhost:8080/"
        },
        "id": "ner-4-sIF0FA",
        "outputId": "04b99d82-4456-44e3-e9f2-d0466d867bf5"
      },
      "execution_count": null,
      "outputs": [
        {
          "output_type": "stream",
          "name": "stdout",
          "text": [
            "Difference of S1 and S2: {10, 20, 30}\n"
          ]
        }
      ]
    },
    {
      "cell_type": "markdown",
      "source": [
        "---\n",
        "### **Q4. Write the following program**\n",
        "---\n"
      ],
      "metadata": {
        "id": "y5Tw3MxQHwIS"
      }
    },
    {
      "cell_type": "markdown",
      "source": [
        "(i) WAP to print 100 random strings whose length between 6 and 8"
      ],
      "metadata": {
        "id": "2i-BaSOKIHwX"
      }
    },
    {
      "cell_type": "code",
      "source": [
        "import random\n",
        "import string\n",
        "\n",
        "for _ in range(100):\n",
        "    length = random.randint(6, 8)\n",
        "    random_str = ''.join(random.choices(string.ascii_letters + string.digits, k=length))\n",
        "    print(random_str)"
      ],
      "metadata": {
        "colab": {
          "base_uri": "https://localhost:8080/"
        },
        "id": "rApWGO47ILfB",
        "outputId": "ed7d5191-ad46-4ed2-e07a-e293ee8129e6"
      },
      "execution_count": null,
      "outputs": [
        {
          "output_type": "stream",
          "name": "stdout",
          "text": [
            "j0Yb9iz\n",
            "T9XtTiPG\n",
            "qDVNDt\n",
            "xgMDJiUY\n",
            "6k0MzGcD\n",
            "61osUPn\n",
            "0idOaRk\n",
            "6cayrRkj\n",
            "83TeHZR\n",
            "bl5JZz\n",
            "eVgSGlq\n",
            "rxKZVX\n",
            "8q29jAj\n",
            "9iiDjmsK\n",
            "yoUkB5\n",
            "heUrKIw\n",
            "rapvbE\n",
            "NS4j7kAO\n",
            "7YHbSzbg\n",
            "VFvZFor\n",
            "xSkzkWa1\n",
            "ZXyb3FF\n",
            "g4vExBy\n",
            "il7m1f\n",
            "Qy6ZuX\n",
            "ILerH1G\n",
            "eWGciX\n",
            "Qy19ZyDz\n",
            "iYsA80\n",
            "VEzUuJqX\n",
            "DkW1f80\n",
            "27lksAgY\n",
            "38apmW\n",
            "yjMeQcQM\n",
            "8CZtdGm\n",
            "T6UkNvmm\n",
            "O4psihK\n",
            "vovkt4a\n",
            "BZJgvb\n",
            "7KnO96A\n",
            "Pvzo14vw\n",
            "CZiGaoi\n",
            "z3fKcZI\n",
            "OkOayl\n",
            "Xs7Jvw\n",
            "4xltzEH\n",
            "sBmF6wRf\n",
            "fVD7rVP\n",
            "DCB4akJ\n",
            "d1F46FXM\n",
            "b8NiCG\n",
            "Bg6a5D\n",
            "IjqPQRv\n",
            "Vp9Dmd\n",
            "Z3k3uOAQ\n",
            "DugTQtCo\n",
            "z2JuH3l\n",
            "V8Di0H9\n",
            "bOPmPMO\n",
            "wX6GmX\n",
            "HSltDw4\n",
            "6zJZkox\n",
            "d774ZwJ\n",
            "5V8pTP\n",
            "Hcihck5T\n",
            "QXUbUNV\n",
            "kaWL9s93\n",
            "aaIOKcAr\n",
            "EyfkQs\n",
            "lzV8FrO\n",
            "z5eEgX\n",
            "Q4U7qSV\n",
            "bW3c9W1Z\n",
            "BQtgVhQ7\n",
            "6j8Mm0Eb\n",
            "xLUB805\n",
            "5V3BFIm6\n",
            "gOpyUrTj\n",
            "iEB9JT\n",
            "81NnKBV\n",
            "y2L8V5\n",
            "mFaqM6X\n",
            "Vw3zgO\n",
            "GXBXGz\n",
            "vz3JrrfL\n",
            "2oQ1PAy\n",
            "Rn9qT3T\n",
            "bYkgOD\n",
            "bBpE0Y\n",
            "nXjEaLTw\n",
            "lAm0oo\n",
            "uBS6by\n",
            "8UhyAfW\n",
            "AhvIVwxO\n",
            "1whHqKyA\n",
            "VBD3il8\n",
            "xZetOh\n",
            "8NMWOblA\n",
            "nsUK596\n",
            "zYWPcI\n"
          ]
        }
      ]
    },
    {
      "cell_type": "markdown",
      "source": [
        "(ii) WAP to print all prime numbers between 600 and 800."
      ],
      "metadata": {
        "id": "WaCl-R2tIYw3"
      }
    },
    {
      "cell_type": "code",
      "source": [
        "def is_prime(n):\n",
        "    if n < 2:\n",
        "        return False\n",
        "    for i in range(2, int(n**0.5) + 1):\n",
        "        if n % i == 0:\n",
        "            return False\n",
        "    return True\n",
        "\n",
        "for num in range(600, 801):\n",
        "    if is_prime(num):\n",
        "        print(num)"
      ],
      "metadata": {
        "colab": {
          "base_uri": "https://localhost:8080/"
        },
        "id": "ZZbDAqgZIcrP",
        "outputId": "b6ce61d8-7995-4369-cbfc-aa29839b690d"
      },
      "execution_count": null,
      "outputs": [
        {
          "output_type": "stream",
          "name": "stdout",
          "text": [
            "601\n",
            "607\n",
            "613\n",
            "617\n",
            "619\n",
            "631\n",
            "641\n",
            "643\n",
            "647\n",
            "653\n",
            "659\n",
            "661\n",
            "673\n",
            "677\n",
            "683\n",
            "691\n",
            "701\n",
            "709\n",
            "719\n",
            "727\n",
            "733\n",
            "739\n",
            "743\n",
            "751\n",
            "757\n",
            "761\n",
            "769\n",
            "773\n",
            "787\n",
            "797\n"
          ]
        }
      ]
    },
    {
      "cell_type": "markdown",
      "source": [
        "(iii) WAP to print all numbers between 100 and 1000 that are divisible by 7 and 9."
      ],
      "metadata": {
        "id": "Vv7f8g5BIkCS"
      }
    },
    {
      "cell_type": "code",
      "source": [
        "for num in range(100, 1001):\n",
        "    if num % 7 == 0 and num % 9 == 0:\n",
        "        print(num)"
      ],
      "metadata": {
        "colab": {
          "base_uri": "https://localhost:8080/"
        },
        "id": "63rdI51AIu5x",
        "outputId": "9f147cdb-467b-44f3-9443-1e4ad530d070"
      },
      "execution_count": null,
      "outputs": [
        {
          "output_type": "stream",
          "name": "stdout",
          "text": [
            "126\n",
            "189\n",
            "252\n",
            "315\n",
            "378\n",
            "441\n",
            "504\n",
            "567\n",
            "630\n",
            "693\n",
            "756\n",
            "819\n",
            "882\n",
            "945\n"
          ]
        }
      ]
    },
    {
      "cell_type": "markdown",
      "source": [
        "---\n",
        "### **Q5. WAP to create two lists of 10 random numbers between 10 and 30; Find**\n",
        "---\n",
        "(i) Common numbers in the two lists"
      ],
      "metadata": {
        "id": "gIJ5u7uoJCxe"
      }
    },
    {
      "cell_type": "code",
      "source": [
        "import random\n",
        "list1 = [random.randint(10, 30) for _ in range(10)]\n",
        "list2 = [random.randint(10, 30) for _ in range(10)]\n",
        "\n",
        "\n",
        "print(\"List 1:\", list1)\n",
        "print(\"List 2:\", list2)"
      ],
      "metadata": {
        "colab": {
          "base_uri": "https://localhost:8080/"
        },
        "id": "rP4s7IEcJDGu",
        "outputId": "b0c4c355-63e3-4f88-ddd2-11936bae7af4"
      },
      "execution_count": null,
      "outputs": [
        {
          "output_type": "stream",
          "name": "stdout",
          "text": [
            "List 1: [13, 12, 23, 17, 27, 21, 14, 29, 10, 29]\n",
            "List 2: [13, 24, 30, 18, 20, 11, 15, 13, 10, 13]\n"
          ]
        }
      ]
    },
    {
      "cell_type": "markdown",
      "source": [
        "(ii) Unique numbers in both the list\n"
      ],
      "metadata": {
        "id": "2MEuLi_TKhEe"
      }
    },
    {
      "cell_type": "code",
      "source": [
        "common = list(set(list1) & set(list2))\n",
        "print(\"\\n(i) Common numbers:\", common)\n"
      ],
      "metadata": {
        "colab": {
          "base_uri": "https://localhost:8080/"
        },
        "id": "snuPTuFBKmCN",
        "outputId": "c6195773-4c7a-4ad1-8b8c-e961cb969eb0"
      },
      "execution_count": null,
      "outputs": [
        {
          "output_type": "stream",
          "name": "stdout",
          "text": [
            "\n",
            "(i) Common numbers: [10, 13]\n"
          ]
        }
      ]
    },
    {
      "cell_type": "markdown",
      "source": [
        "(iii) Minimum in both the list\n",
        "(iv) Maximum in both the list\n",
        "(v) Sum of both the lists"
      ],
      "metadata": {
        "id": "TqRtHuxqKumD"
      }
    },
    {
      "cell_type": "code",
      "source": [
        "min_list1 = min(list1)\n",
        "min_list2 = min(list2)\n",
        "print(f\"(iii) Minimum - List 1: {min_list1}, List 2: {min_list2}\")\n",
        "max_list1 = max(list1)\n",
        "max_list2 = max(list2)\n",
        "print(f\"(iv) Maximum - List 1: {max_list1}, List 2: {max_list2}\")\n",
        "sum_list1 = sum(list1)\n",
        "sum_list2 = sum(list2)\n",
        "print(f\"(v) Sum - List 1: {sum_list1}, List 2: {sum_list2}\")"
      ],
      "metadata": {
        "colab": {
          "base_uri": "https://localhost:8080/"
        },
        "id": "7PfiV9K6KvrZ",
        "outputId": "5895f235-5889-4eae-fd2c-ab3edf65fbee"
      },
      "execution_count": null,
      "outputs": [
        {
          "output_type": "stream",
          "name": "stdout",
          "text": [
            "(iii) Minimum - List 1: 10, List 2: 10\n",
            "(iv) Maximum - List 1: 29, List 2: 30\n",
            "(v) Sum - List 1: 195, List 2: 167\n"
          ]
        }
      ]
    },
    {
      "cell_type": "markdown",
      "source": [
        "---\n",
        "### **Q6. WAP to create a list of 100 random numbers between 100 and 900. Count and print the:**\n",
        "---\n"
      ],
      "metadata": {
        "id": "fB4O3omjMS5p"
      }
    },
    {
      "cell_type": "code",
      "source": [
        "import random\n",
        "numbers = [random.randint(100, 900) for _ in range(100)]\n",
        "odd_numbers = [n for n in numbers if n % 2 != 0]\n",
        "print(\" Total odd numbers:\", len(odd_numbers))\n",
        "print(\"Odd numbers:\", odd_numbers)"
      ],
      "metadata": {
        "colab": {
          "base_uri": "https://localhost:8080/"
        },
        "id": "R0RRJIk9MUzf",
        "outputId": "61f0262b-a7ca-458e-9de1-b7071dc941bf"
      },
      "execution_count": null,
      "outputs": [
        {
          "output_type": "stream",
          "name": "stdout",
          "text": [
            " Total odd numbers: 49\n",
            "Odd numbers: [735, 353, 671, 833, 827, 785, 617, 733, 375, 459, 561, 143, 163, 473, 577, 125, 387, 797, 667, 461, 273, 225, 803, 833, 629, 693, 413, 653, 721, 639, 751, 327, 741, 257, 217, 565, 157, 899, 347, 481, 645, 479, 687, 539, 201, 753, 837, 299, 141]\n"
          ]
        }
      ]
    },
    {
      "cell_type": "markdown",
      "source": [
        "(ii) All even numbers\n"
      ],
      "metadata": {
        "id": "YQmr2ubCNOLo"
      }
    },
    {
      "cell_type": "code",
      "source": [
        "even_numbers = [n for n in numbers if n % 2 == 0]\n",
        "print(\"\\n Total even numbers:\", len(even_numbers))\n",
        "print(\"Even numbers:\", even_numbers)"
      ],
      "metadata": {
        "colab": {
          "base_uri": "https://localhost:8080/"
        },
        "id": "t-90B06gNXAe",
        "outputId": "711b2da3-e865-43d6-9a02-77cae9fe4c12"
      },
      "execution_count": null,
      "outputs": [
        {
          "output_type": "stream",
          "name": "stdout",
          "text": [
            "\n",
            " Total even numbers: 45\n",
            "Even numbers: [182, 576, 582, 546, 432, 498, 312, 740, 752, 402, 506, 642, 696, 548, 456, 680, 762, 486, 606, 786, 398, 154, 552, 610, 896, 380, 630, 366, 180, 850, 376, 822, 890, 698, 774, 870, 230, 892, 612, 592, 582, 476, 606, 198, 776]\n"
          ]
        }
      ]
    },
    {
      "cell_type": "markdown",
      "source": [
        "(iii) All prime numbers"
      ],
      "metadata": {
        "id": "t79TCGdaNeNJ"
      }
    },
    {
      "cell_type": "code",
      "source": [
        "def is_prime(n):\n",
        "    if n < 2:\n",
        "        return False\n",
        "    for i in range(2, int(n**0.5)+1):\n",
        "        if n % i == 0:\n",
        "            return False\n",
        "    return True\n",
        "\n",
        "prime_numbers = [n for n in numbers if is_prime(n)]\n",
        "print(\"\\n Total prime numbers:\", len(prime_numbers))\n",
        "print(\"Prime numbers:\", prime_numbers)"
      ],
      "metadata": {
        "colab": {
          "base_uri": "https://localhost:8080/"
        },
        "id": "zopCIF_hNfy1",
        "outputId": "118c17b6-ced9-4c01-918d-8e877dfee160"
      },
      "execution_count": null,
      "outputs": [
        {
          "output_type": "stream",
          "name": "stdout",
          "text": [
            "\n",
            " Total prime numbers: 17\n",
            "Prime numbers: [541, 701, 443, 823, 373, 101, 577, 401, 197, 809, 641, 373, 449, 131, 331, 641, 521]\n"
          ]
        }
      ]
    },
    {
      "cell_type": "markdown",
      "source": [
        "---\n",
        "### **Q7. D is a dictionary defined as D={1:\"One\",2:\"Two\",3:\"Three\",4:\"Four\", 5:\"Five\"}.**\n",
        "---\n",
        " ### WAP to read all the keys and values from dictionary and write to the file in the given below format.\n",
        " Key1, Value1\n",
        "\n",
        "Key2, Value2\n",
        "\n",
        "Key3, Value3"
      ],
      "metadata": {
        "id": "kQljlGN2OY-f"
      }
    },
    {
      "cell_type": "code",
      "source": [
        "D = {1: \"One\", 2: \"Two\", 3: \"Three\", 4: \"Four\", 5: \"Five\"}\n",
        "\n",
        "\n",
        "with open(\"dictionary_output.txt\", \"w\") as file:\n",
        "    for key, value in D.items():\n",
        "        file.write(f\"{key}, {value}\\n\")\n",
        "\n",
        "print(\"Data has been written to 'dictionary_output.txt'\")"
      ],
      "metadata": {
        "colab": {
          "base_uri": "https://localhost:8080/"
        },
        "id": "dgW5sJkGO2bh",
        "outputId": "b3091144-031d-4ec9-a2fe-8f564d246297"
      },
      "execution_count": null,
      "outputs": [
        {
          "output_type": "stream",
          "name": "stdout",
          "text": [
            "Data has been written to 'dictionary_output.txt'\n"
          ]
        }
      ]
    },
    {
      "cell_type": "markdown",
      "source": [
        "**Q8. L is a list defined as L={\"One\",\"Two\",\"Three\",\"Four\",\"Five\"}.\n",
        " WAP to count the length of reach element from a list and write to the file in the given below format:\n",
        "One, 3\n",
        "Two, 3\n",
        "Four, 4**\n"
      ],
      "metadata": {
        "id": "8r_N2BkNs5bW"
      }
    },
    {
      "cell_type": "code",
      "source": [
        "L = [\"One\", \"Two\", \"Three\", \"Four\", \"Five\"]\n",
        "\n",
        "\n",
        "with open(\"length_output.txt\", \"w\") as file:\n",
        "    for item in L:\n",
        "        file.write(f\"{item}, {len(item)}\\n\")\n",
        "\n",
        "print(\"Element lengths have been written to 'length_output.txt'\")\n",
        "\n"
      ],
      "metadata": {
        "colab": {
          "base_uri": "https://localhost:8080/"
        },
        "id": "d7Sz4SI6s-1u",
        "outputId": "8a0f5ceb-4caf-491c-be75-3517483669c9"
      },
      "execution_count": null,
      "outputs": [
        {
          "output_type": "stream",
          "name": "stdout",
          "text": [
            "Element lengths have been written to 'length_output.txt'\n"
          ]
        }
      ]
    },
    {
      "cell_type": "markdown",
      "source": [
        "**Q9. Write to the file 100 random strings whose length between 10 and 15.**"
      ],
      "metadata": {
        "id": "V3UHf0hpuai9"
      }
    },
    {
      "cell_type": "code",
      "source": [
        "import random\n",
        "import string\n",
        "\n",
        "with open(\"random_strings.txt\", \"w\") as file:\n",
        "    for _ in range(100):\n",
        "        length = random.randint(10, 15)\n",
        "        random_str = ''.join(random.choices(string.ascii_letters + string.digits, k=length))\n",
        "        file.write(random_str + \"\\n\")\n",
        "\n",
        "print(\"100 random strings written to 'random_strings.txt'\")"
      ],
      "metadata": {
        "colab": {
          "base_uri": "https://localhost:8080/"
        },
        "id": "JVnoxhVcuvIy",
        "outputId": "ddde4ac1-63f0-4580-bfa3-f1e257654b11"
      },
      "execution_count": null,
      "outputs": [
        {
          "output_type": "stream",
          "name": "stdout",
          "text": [
            "100 random strings written to 'random_strings.txt'\n"
          ]
        }
      ]
    },
    {
      "cell_type": "markdown",
      "source": [
        "**Q10. Write to the file all prime numbers between 600 and 800.**"
      ],
      "metadata": {
        "id": "MUNSVCXpvGrS"
      }
    },
    {
      "cell_type": "code",
      "source": [
        "def is_prime(n):\n",
        "    if n < 2:\n",
        "        return False\n",
        "    for i in range(2, int(n**0.5) + 1):\n",
        "        if n % i == 0:\n",
        "            return False\n",
        "    return True\n",
        "\n",
        "# Open file to write prime numbers\n",
        "with open(\"prime_600_800.txt\", \"w\") as file:\n",
        "    for num in range(600, 801):\n",
        "        if is_prime(num):\n",
        "            file.write(str(num) + \"\\n\")\n",
        "\n",
        "print(\"Prime numbers between 600 and 800 have been written to 'prime_600_800.txt'\")"
      ],
      "metadata": {
        "id": "XTNm1Q7VvMPi"
      },
      "execution_count": null,
      "outputs": []
    },
    {
      "cell_type": "markdown",
      "source": [
        "**Q11. WAP to calculate the time taken by a program.**"
      ],
      "metadata": {
        "id": "UT7iwxFxvyUG"
      }
    },
    {
      "cell_type": "code",
      "source": [
        "import time\n",
        "\n",
        "\n",
        "start_time = time.time()\n",
        "\n",
        "total = sum(range(1, 1_000_001))\n",
        "print(\"Sum:\", total)\n",
        "\n",
        "\n",
        "\n",
        "end_time = time.time()\n",
        "\n",
        "\n",
        "elapsed_time = end_time - start_time\n",
        "print(f\"Time taken by the program: {elapsed_time:.4f} seconds\")"
      ],
      "metadata": {
        "colab": {
          "base_uri": "https://localhost:8080/"
        },
        "id": "B5o9QF18wIZa",
        "outputId": "e68abfe6-023a-4178-cdef-98cc17747425"
      },
      "execution_count": null,
      "outputs": [
        {
          "output_type": "stream",
          "name": "stdout",
          "text": [
            "Sum: 500000500000\n",
            "Time taken by the program: 0.0106 seconds\n"
          ]
        }
      ]
    },
    {
      "cell_type": "markdown",
      "source": [
        "**Q12. WAP to sort following number of elements in a list, calculate time taken and plot the graph**"
      ],
      "metadata": {
        "id": "gufztvo2w7ZH"
      }
    },
    {
      "cell_type": "code",
      "source": [
        "import time\n",
        "import random\n",
        "import matplotlib.pyplot as plt\n",
        "\n",
        "\n",
        "sizes = [5000, 10000, 15000, 20000, 25000]\n",
        "times = []\n",
        "\n",
        "\n",
        "for size in sizes:\n",
        "    data = [random.randint(1, 1000000) for _ in range(size)]\n",
        "    start_time = time.time()\n",
        "    data.sort()\n",
        "    end_time = time.time()\n",
        "    elapsed = end_time - start_time\n",
        "    times.append(elapsed)\n",
        "    print(f\"Sorted {size} elements in {elapsed:.4f} seconds\")\n",
        "\n",
        "\n",
        "plt.plot(sizes, times, marker='o', linestyle='-', color='blue')\n",
        "plt.title('Sorting Time vs List Size')\n",
        "plt.xlabel('Number of Elements')\n",
        "plt.ylabel('Time Taken (seconds)')\n",
        "plt.grid(True)\n",
        "plt.show()"
      ],
      "metadata": {
        "colab": {
          "base_uri": "https://localhost:8080/",
          "height": 559
        },
        "id": "Km4CZWwMxVzj",
        "outputId": "43f942e5-3bcb-45ca-fc2f-bca43ae90e6a"
      },
      "execution_count": null,
      "outputs": [
        {
          "output_type": "stream",
          "name": "stdout",
          "text": [
            "Sorted 5000 elements in 0.0007 seconds\n",
            "Sorted 10000 elements in 0.0016 seconds\n",
            "Sorted 15000 elements in 0.0027 seconds\n",
            "Sorted 20000 elements in 0.0034 seconds\n",
            "Sorted 25000 elements in 0.0049 seconds\n"
          ]
        },
        {
          "output_type": "display_data",
          "data": {
            "text/plain": [
              "<Figure size 640x480 with 1 Axes>"
            ],
            "image/png": "[encoded data removed]"
          },
          "metadata": {}
        }
      ]
    },
    {
      "cell_type": "markdown",
      "source": [
        "**WAP to create a dictionary of student marks in five subjects and you have to find the student\n",
        " having maximum and minimum average marks.**"
      ],
      "metadata": {
        "id": "P0wEpZi0x_Th"
      }
    },
    {
      "cell_type": "code",
      "source": [
        "\n",
        "students = {\n",
        "    \"Alice\": [85, 78, 92, 88, 76],\n",
        "    \"Bob\": [72, 65, 70, 68, 74],\n",
        "    \"Charlie\": [90, 95, 93, 89, 91],\n",
        "    \"David\": [60, 55, 58, 63, 59],\n",
        "    \"Eve\": [80, 82, 84, 86, 88]\n",
        "}\n",
        "\n",
        "averages = {}\n",
        "\n",
        "for name, marks in students.items():\n",
        "    avg = sum(marks) / len(marks)\n",
        "    averages[name] = avg\n",
        "\n",
        "\n",
        "max_student = max(averages, key=averages.get)\n",
        "min_student = min(averages, key=averages.get)\n",
        "\n",
        "\n",
        "print(f\"Student with maximum average marks: {max_student} ({averages[max_student]:.2f})\")\n",
        "print(f\"Student with minimum average marks: {min_student} ({averages[min_student]:.2f})\")"
      ],
      "metadata": {
        "colab": {
          "base_uri": "https://localhost:8080/"
        },
        "id": "IbdcYCvxx_xZ",
        "outputId": "5acc0199-9dfd-4e16-e07e-8afec8bc9483"
      },
      "execution_count": null,
      "outputs": [
        {
          "output_type": "stream",
          "name": "stdout",
          "text": [
            "Student with maximum average marks: Charlie (91.60)\n",
            "Student with minimum average marks: David (59.00)\n"
          ]
        }
      ]
    }
  ]
}